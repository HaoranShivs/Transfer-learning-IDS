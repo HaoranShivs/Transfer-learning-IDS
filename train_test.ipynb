{
 "cells": [
  {
   "cell_type": "code",
   "execution_count": 1,
   "metadata": {},
   "outputs": [],
   "source": [
    "# from dataprocess.kdd_cup99 import KDD_CUP_99_DataLoader\n",
    "# from dataprocess.unsw_nb15 import UNSW_NB15_DataLoader\n",
    "from dataprocess.cic_ids_2017 import CIC_IDS_2107_DataLoader\n",
    "from net.CNN import CNN3_4\n",
    "# from net.FullConnect import linear3_dropout\n",
    "# from net.multCNN import multCNN"
   ]
  },
  {
   "cell_type": "code",
   "execution_count": 2,
   "metadata": {},
   "outputs": [],
   "source": [
    "import torch\n",
    "from torch import squeeze\n",
    "import torch.nn as nn\n",
    "import torch.optim as optim\n",
    "import torch.nn.functional as F\n",
    "from torch.utils.tensorboard import SummaryWriter"
   ]
  },
  {
   "cell_type": "code",
   "execution_count": 3,
   "metadata": {},
   "outputs": [
    {
     "name": "stdout",
     "output_type": "stream",
     "text": [
      "cuda\n",
      "log_directory:  /Transfer-learning-IDS/log/exp/CNN3_4/CIC_IDS2017_UNSW_NB15_transfer_Adam_rebalance_rebalance_no_frozen/5_14/\n",
      "ckpt_directory:  /Transfer-learning-IDS/history/CNN3_4/CIC_IDS2017_UNSW_NB15_transfer_Adam_rebalance_rebalance_no_frozen/checkpoint/5_14/\n"
     ]
    }
   ],
   "source": [
    "import os \n",
    "import time\n",
    "\n",
    "os.environ[\"CUDA_DEVICE_ORDER\"]=\"PCI_BUS_ID\"\n",
    "os.environ[\"CUDA_VISIBLE_DEVICES\"]='0'\n",
    "\n",
    "device=torch.device('cuda' if torch.cuda.is_available() else 'cpu')\n",
    "print(device)\n",
    "\n",
    "t = time.localtime()\n",
    "year, month, day = t.tm_year, t.tm_mon, t.tm_mday\n",
    "\n",
    "net = input('input the name of net to train: ')\n",
    "mode = input('input the tag about the training: ')\n",
    "if mode == '':\n",
    "    mode = 'no_tag'\n",
    "\n",
    "log_directory = f\"/Transfer-learning-IDS/log/exp/{net}/{mode}/{month}_{day}/\"\n",
    "ckpt_directory = f\"/Transfer-learning-IDS/history/{net}/{mode}/checkpoint/{month}_{day}/\"\n",
    "if not os.path.isdir(log_directory):\n",
    "    os.makedirs(log_directory)\n",
    "if not os.path.isdir(ckpt_directory):\n",
    "    os.makedirs(ckpt_directory)\n",
    "print('log_directory: ', log_directory)\n",
    "print('ckpt_directory: ', ckpt_directory)"
   ]
  },
  {
   "cell_type": "code",
   "execution_count": 4,
   "metadata": {},
   "outputs": [],
   "source": [
    "# # for kdd_cup99\n",
    "# dataset = KDD_CUP_99_DataLoader('E:/DataSets/kddcup.data', 256)\n",
    "# data_labels = dataset.data.to_num_column_dic[41].keys()\n",
    "# class_num = len(data_labels)\n",
    "# discrete_column_idx = dataset.data.discrete_column\n",
    "# discrete_column_idx.remove(41)\n",
    "# continuous_column_idx = [i for i in range(41) if i not in discrete_column_idx]\n",
    "# input_channel_kind = len(discrete_column_idx)\n",
    "# input_channel_num = len(continuous_column_idx)\n",
    "\n",
    "# print(discrete_column_idx, continuous_column_idx, data_labels)"
   ]
  },
  {
   "cell_type": "code",
   "execution_count": 5,
   "metadata": {},
   "outputs": [],
   "source": [
    "# # for UNSW_NB15\n",
    "# dataset = UNSW_NB15_DataLoader('E:/DataSets/UNSW-NB15 - CSV Files', 256, mode='Train', rebalanced=True)\n",
    "# data_labels = dataset.data.label_category.keys()\n",
    "# class_num = len(data_labels)\n",
    "# # discrete_column_idx = dataset.data.discrete_column\n",
    "# # discrete_column_idx.remove(47)\n",
    "# # discrete_column_idx.remove(48)\n",
    "# # continuous_column_idx = [i for i in range(47) if i not in discrete_column_idx]\n",
    "# # input_channel_kind = len(discrete_column_idx)\n",
    "# # input_channel_num = len(continuous_column_idx)\n",
    "\n",
    "# # hight, width = dataset.data.image_hight, dataset.data.image_width\n",
    "# feature_length = dataset.data.feature_length\n",
    "# print(class_num, feature_length)"
   ]
  },
  {
   "cell_type": "code",
   "execution_count": 6,
   "metadata": {},
   "outputs": [
    {
     "name": "stdout",
     "output_type": "stream",
     "text": [
      "9 85\n"
     ]
    }
   ],
   "source": [
    "# for cic_ids2017\n",
    "batch_size = 256\n",
    "dataset = CIC_IDS_2107_DataLoader('E:/DataSets/CIC-IDS2016', batch_size, mode='Train', rebalanced=True)\n",
    "data_labels = dataset.data.label_category.keys()\n",
    "class_num = len(data_labels)\n",
    "feature_length = dataset.data.feature_length\n",
    "print(class_num, feature_length)"
   ]
  },
  {
   "cell_type": "code",
   "execution_count": 7,
   "metadata": {},
   "outputs": [],
   "source": [
    "writer1 = SummaryWriter(log_directory)"
   ]
  },
  {
   "cell_type": "code",
   "execution_count": 8,
   "metadata": {},
   "outputs": [],
   "source": [
    "# net = CNN3_4(feature_length, class_num).to(device)\n",
    "# epoch = 100\n",
    "# criterion = nn.CrossEntropyLoss().to(device)\n",
    "# # optimizer = optim.SGD(net.parameters(), lr=0.01)\n",
    "# optimizer = optim.Adam(net.parameters(), lr=0.001)\n",
    "# scheduler = torch.optim.lr_scheduler.StepLR(optimizer, step_size=20, gamma=0.5)"
   ]
  },
  {
   "cell_type": "code",
   "execution_count": 8,
   "metadata": {},
   "outputs": [],
   "source": [
    "# net = linear3_Relu(features_num, class_num).to(device)\n",
    "# net = CNN(input_channel_num + input_channel_kind, class_num).to(device)\n",
    "net = CNN3_4(feature_length, class_num).to(device)\n",
    "# net = linear3_dropout(feature_length, class_num).to(device)\n",
    "\n",
    "ckpt = torch.load('history/CNN3_4/UNSW_NB15_Adam_rebalance/checkpoint/5_12/ckpt_best_49.pth')\n",
    "\n",
    "part_params = net.state_dict()\n",
    "for name, param in ckpt['net'].items():\n",
    "    if 'cnn' in name:\n",
    "    # if 'fc_1' in name:\n",
    "        part_params[name] = param\n",
    "\n",
    "# for name, param in net.named_parameters():\n",
    "#     if \"cnn\" in name:\n",
    "#     # if 'fc_1' in name:\n",
    "#         param.requires_grad = False\n",
    "\n",
    "# # epoch_start = ckpt[\"epoch\"]\n",
    "net.load_state_dict(part_params)\n",
    "# optimizer.load_state_dict(ckpt[\"optimizer\"])\n",
    "\n",
    "epoch = 100\n",
    "criterion = nn.CrossEntropyLoss().to(device)\n",
    "# optimizer = optim.SGD(filter(lambda p : p.requires_grad, net.parameters()), lr=0.01)\n",
    "# optimizer = optim.SGD(net.parameters(), lr=0.001)\n",
    "# optimizer = optim.Adam(filter(lambda p : p.requires_grad, net.parameters()), lr=0.001)\n",
    "optimizer = optim.Adam(net.parameters(), lr=0.001)\n",
    "scheduler = torch.optim.lr_scheduler.StepLR(optimizer, step_size=20, gamma=0.5)"
   ]
  },
  {
   "cell_type": "code",
   "execution_count": 9,
   "metadata": {},
   "outputs": [],
   "source": [
    "for t in range(0, epoch):\n",
    "    running_loss = 0\n",
    "    for step, (x, y) in enumerate(dataset):\n",
    "        \n",
    "        x = x.to(device)\n",
    "        y = y.to(device)\n",
    "        \n",
    "        # Zero gradients, perform a backward pass, and update the weights.\n",
    "        optimizer.zero_grad()\n",
    "\n",
    "        y_pred = net(x)\n",
    "        loss = criterion(y_pred, y)\n",
    "        loss.backward()\n",
    "        optimizer.step()\n",
    "        \n",
    "        # visualize loss\n",
    "        running_loss += loss.item() / batch_size\n",
    "    # ...log the running loss\n",
    "    writer1.add_scalar('training loss', running_loss, t)\n",
    "    scheduler.step()\n",
    "    if t % 10 == 9:\n",
    "        checkpoint = {\"net\": net.state_dict(), 'optimizer':optimizer.state_dict(), \"epoch\": t}\n",
    "        torch.save(checkpoint,  ckpt_directory + 'ckpt_best_%s.pth' %(str(t)))\n",
    "writer1.close()"
   ]
  },
  {
   "cell_type": "code",
   "execution_count": null,
   "metadata": {},
   "outputs": [],
   "source": []
  }
 ],
 "metadata": {
  "interpreter": {
   "hash": "1d372851e929683907f22a981204426c4d48f24f5c1f70c60438207dfe1ba0b7"
  },
  "kernelspec": {
   "display_name": "Python 3.7.12 ('py37@pytorch')",
   "language": "python",
   "name": "python3"
  },
  "language_info": {
   "codemirror_mode": {
    "name": "ipython",
    "version": 3
   },
   "file_extension": ".py",
   "mimetype": "text/x-python",
   "name": "python",
   "nbconvert_exporter": "python",
   "pygments_lexer": "ipython3",
   "version": "3.7.12"
  },
  "orig_nbformat": 4
 },
 "nbformat": 4,
 "nbformat_minor": 2
}
