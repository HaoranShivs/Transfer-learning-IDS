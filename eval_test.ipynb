{
 "cells": [
  {
   "cell_type": "code",
   "execution_count": null,
   "metadata": {},
   "outputs": [
    {
     "ename": "",
     "evalue": "",
     "output_type": "error",
     "traceback": [
      "\u001b[1;31mFailed to start the Kernel. \n",
      "Canceled. \n",
      "View Jupyter <a href='command:jupyter.viewOutput'>log</a> for further details."
     ]
    }
   ],
   "source": [
    "# from dataprocess.kdd_cup99 import KDD_CUP_99_DataLoader\n",
    "from dataprocess.unsw_nb15 import UNSW_NB15_DataLoader\n",
    "from net.CNN import CNN, CNN_2_linear\n",
    "from net.multCNN import multCNN"
   ]
  },
  {
   "cell_type": "code",
   "execution_count": 2,
   "metadata": {},
   "outputs": [],
   "source": [
    "import torch\n",
    "import torch.nn as nn\n",
    "import torch.optim as optim\n",
    "import torch.nn.functional as F\n",
    "# from torch.utils.tensorboard import SummaryWriter\n",
    "\n",
    "import numpy as np\n",
    "import seaborn as sns\n",
    "import matplotlib.pyplot as plt\n",
    "from sklearn.metrics import classification_report, confusion_matrix, accuracy_score"
   ]
  },
  {
   "cell_type": "code",
   "execution_count": 3,
   "metadata": {},
   "outputs": [
    {
     "name": "stdout",
     "output_type": "stream",
     "text": [
      "cuda\n"
     ]
    }
   ],
   "source": [
    "import os \n",
    "os.environ[\"CUDA_DEVICE_ORDER\"]=\"PCI_BUS_ID\"\n",
    "os.environ[\"CUDA_VISIBLE_DEVICES\"]='0'\n",
    "\n",
    "device=torch.device('cuda' if torch.cuda.is_available() else 'cpu')\n",
    "print(device)"
   ]
  },
  {
   "cell_type": "code",
   "execution_count": 4,
   "metadata": {},
   "outputs": [
    {
     "name": "stdout",
     "output_type": "stream",
     "text": [
      "[0, 1, 2, 3, 4, 5, 13, 35, 38, 41] [6, 7, 8, 9, 10, 11, 12, 14, 15, 16, 17, 18, 19, 20, 21, 22, 23, 24, 25, 26, 27, 28, 29, 30, 31, 32, 33, 34, 36, 37, 39, 40, 42, 43, 44, 45, 46] dict_keys([b'Normal', b'Generic', b'Exploits', b'Fuzzers', b'DoS', b' Reconnaissance', b'Analysis', b'Backdoors', b'Shellcode', b'Worms'])\n"
     ]
    }
   ],
   "source": [
    "# dataset = KDD_CUP_99_DataLoader('E:/DataSets/kddcup.data', 256, 'Test')\n",
    "dataset = UNSW_NB15_DataLoader('E:/DataSets/UNSW-NB15 - CSV Files', 256, 'Test')\n",
    "labels = dataset.data.label_dic.keys()\n",
    "class_num = len(labels)\n",
    "discrete_column_idx = dataset.data.discrete_column\n",
    "discrete_column_idx.remove(47)\n",
    "discrete_column_idx.remove(48)\n",
    "continuous_column_idx = [i for i in range(47) if i not in discrete_column_idx]\n",
    "input_channel_kind = len(discrete_column_idx)\n",
    "input_channel_num = len(continuous_column_idx)\n",
    "print(discrete_column_idx, continuous_column_idx, labels)"
   ]
  },
  {
   "cell_type": "code",
   "execution_count": 5,
   "metadata": {},
   "outputs": [],
   "source": [
    "# U2R_list = [b'loadmodule.', b'buffer_overflow.', b'perl.', b'rootkit.']\n",
    "# # index = dataset.data.to_num_column_dic[41]\n",
    "# # print(index)\n",
    "# U2R_indices = [12, 16, 17, 21]"
   ]
  },
  {
   "cell_type": "code",
   "execution_count": 5,
   "metadata": {},
   "outputs": [],
   "source": [
    "log_file = 'history/CNN_2_linear/UNSW_NB15/plot/confusion_matrix/5_6'\n",
    "if not os.path.isdir(log_file):\n",
    "    os.makedirs(log_file)"
   ]
  },
  {
   "cell_type": "code",
   "execution_count": 6,
   "metadata": {},
   "outputs": [
    {
     "data": {
      "text/plain": [
       "<All keys matched successfully>"
      ]
     },
     "execution_count": 6,
     "metadata": {},
     "output_type": "execute_result"
    }
   ],
   "source": [
    "ckpt_file = 'history/CNN_2_linear/UNSW_NB15/checkpoint/5_6/ckpt_best_29.pth'\n",
    "net = CNN_2_linear(input_channel_num + input_channel_kind, class_num).to(device)\n",
    "checkpoint = torch.load(ckpt_file)\n",
    "net.load_state_dict(checkpoint['net'])"
   ]
  },
  {
   "cell_type": "code",
   "execution_count": 7,
   "metadata": {},
   "outputs": [
    {
     "name": "stdout",
     "output_type": "stream",
     "text": [
      "391819 346664\n",
      "0.11524453893251731\n"
     ]
    }
   ],
   "source": [
    "# # for kdd_dup99\n",
    "# with torch.no_grad():\n",
    "#     num = 0\n",
    "#     num_dif = 0\n",
    "#     for step, (x, y) in enumerate(dataset):\n",
    "#         x_continuous, x_discrete =x[:, continuous_column_idx], x[:, discrete_column_idx]\n",
    "#         x_continuous = x_continuous.to(device)\n",
    "#         x_discrete = x_discrete.to(device)\n",
    "\n",
    "#         y_pred = net((x_continuous, x_discrete))\n",
    "#         y_pred = y_pred.cpu()\n",
    "\n",
    "#         y_pred = torch.argmax(y_pred, 1)\n",
    "#         U2R_select = (y == 12) + (y == 16) + (y == 17) + (y == 21)\n",
    "#         y, y_pred = y[U2R_select], y_pred[U2R_select]\n",
    "#         compare = y_pred != y\n",
    "#         num += y_pred.shape[0]\n",
    "#         num_dif += compare.sum().item()\n",
    "# print(num, num_dif)\n",
    "\n",
    "# accuracy = (num - num_dif) / num\n",
    "# print(accuracy)"
   ]
  },
  {
   "cell_type": "code",
   "execution_count": 7,
   "metadata": {},
   "outputs": [],
   "source": [
    "# for unsw_nb15\n",
    "label = np.array([])\n",
    "prediction = np.array([])\n",
    "with torch.no_grad():\n",
    "    num = 0\n",
    "    num_dif = 0\n",
    "    for step, (x, y) in enumerate(dataset):\n",
    "        # x_continuous, x_discrete =x[:, continuous_column_idx], x[:, discrete_column_idx]\n",
    "        # x_continuous = x_continuous.to(device)\n",
    "        # x_discrete = x_discrete.to(device)\n",
    "        x = x.to(device)\n",
    "\n",
    "        y_pred = net(x)\n",
    "        y_pred = y_pred.cpu()\n",
    "\n",
    "        y_pred = torch.argmax(y_pred, 1)\n",
    "        prediction = np.concatenate((prediction, y_pred.numpy()), axis=0)\n",
    "        label = np.concatenate((label, y.numpy()), axis=0)\n",
    "        # compare = y_pred != y\n",
    "        # num += y_pred.shape[0]\n",
    "        # num_dif += compare.sum().item()\n",
    "# accuracy = (num - num_dif) / num\n",
    "# print(accuracy)"
   ]
  },
  {
   "cell_type": "code",
   "execution_count": null,
   "metadata": {},
   "outputs": [],
   "source": [
    "for i in range(label.shape):\n",
    "    print(label[i], prediction[i])"
   ]
  },
  {
   "cell_type": "code",
   "execution_count": 8,
   "metadata": {},
   "outputs": [
    {
     "name": "stdout",
     "output_type": "stream",
     "text": [
      "                 precision    recall  f1-score   support\n",
      "\n",
      "         Normal       1.00      0.00      0.00    887567\n",
      "        Generic       1.00      0.00      0.00     86148\n",
      "       Exploits       0.02      1.00      0.03     17767\n",
      "        Fuzzers       1.00      0.00      0.00      9630\n",
      "            DoS       1.00      0.00      0.00      6474\n",
      " Reconnaissance       1.00      0.00      0.00      5623\n",
      "       Analysis       1.00      0.00      0.00      1050\n",
      "      Backdoors       1.00      0.00      0.00       890\n",
      "      Shellcode       1.00      0.00      0.00       589\n",
      "          Worms       1.00      0.00      0.00        70\n",
      "\n",
      "       accuracy                           0.02   1015808\n",
      "      macro avg       0.90      0.10      0.00   1015808\n",
      "   weighted avg       0.98      0.02      0.00   1015808\n",
      "\n"
     ]
    }
   ],
   "source": [
    "labels = [i.decode() for i in labels]\n",
    "print(classification_report(label, prediction, target_names=labels, zero_division=1))"
   ]
  },
  {
   "cell_type": "code",
   "execution_count": 9,
   "metadata": {},
   "outputs": [],
   "source": [
    "cm = confusion_matrix(label, prediction)\n",
    "acc = accuracy_score(label, prediction)"
   ]
  },
  {
   "cell_type": "code",
   "execution_count": 10,
   "metadata": {},
   "outputs": [
    {
     "data": {
      "image/png": "[encoded data removed]",
      "text/plain": [
       "<Figure size 720x432 with 2 Axes>"
      ]
     },
     "metadata": {
      "needs_background": "light"
     },
     "output_type": "display_data"
    }
   ],
   "source": [
    "sns.set()\n",
    "plt.figure(figsize=(10,6))\n",
    "ax = sns.heatmap(cm/np.sum(cm),annot=True,fmt='.2%', cmap='Blues')\n",
    "ax.set_title('Confusion Matrix - Neural Networks')\n",
    "ax.set_xlabel(f'Sparse Categorical Accuracy\\nAccuracy:{round(acc*100,2)}%')\n",
    "ax.set_ylabel('True label')\n",
    "\n",
    "ax.yaxis.set_ticklabels(labels)\n",
    "ax.xaxis.set_ticklabels(labels)\n",
    "plt.xticks(rotation=45)\n",
    "plt.yticks(rotation=0)\n",
    "plt.tight_layout()\n",
    "plt.savefig(log_file+'/confusion_matrix')\n",
    "plt.show()"
   ]
  },
  {
   "cell_type": "code",
   "execution_count": null,
   "metadata": {},
   "outputs": [],
   "source": []
  }
 ],
 "metadata": {
  "interpreter": {
   "hash": "1d372851e929683907f22a981204426c4d48f24f5c1f70c60438207dfe1ba0b7"
  },
  "kernelspec": {
   "display_name": "Python 3.7.12 ('py37@pytorch')",
   "language": "python",
   "name": "python3"
  },
  "language_info": {
   "codemirror_mode": {
    "name": "ipython",
    "version": 3
   },
   "file_extension": ".py",
   "mimetype": "text/x-python",
   "name": "python",
   "nbconvert_exporter": "python",
   "pygments_lexer": "ipython3",
   "version": "3.7.12"
  },
  "orig_nbformat": 4
 },
 "nbformat": 4,
 "nbformat_minor": 2
}
